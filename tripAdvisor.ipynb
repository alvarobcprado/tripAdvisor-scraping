{
 "cells": [
  {
   "cell_type": "code",
   "execution_count": 1,
   "metadata": {},
   "outputs": [],
   "source": [
    "from selenium import webdriver\r\n",
    "from hotelsInfo import HotelsInfo\r\n",
    "import re"
   ]
  },
  {
   "cell_type": "code",
   "execution_count": 2,
   "metadata": {},
   "outputs": [],
   "source": [
    "driver = webdriver.Firefox()"
   ]
  },
  {
   "cell_type": "code",
   "execution_count": 11,
   "metadata": {},
   "outputs": [],
   "source": [
    "driver.get(\"https://www.tripadvisor.com.br/Hotels-g2199635-Varzea_Grande_State_of_Mato_Grosso-Hotels.html\")"
   ]
  },
  {
   "cell_type": "code",
   "execution_count": 12,
   "metadata": {},
   "outputs": [],
   "source": [
    "#before run this cell, select date and visitors manually\r\n",
    "#extract city name and daily date\r\n",
    "city = driver.find_element_by_xpath('/html/body/div[1]/div/div[1]/div[6]/div[2]/div/div[2]/div[1]/div/div/h1').text\r\n",
    "date = driver.find_element_by_xpath('/html/body/div[1]/div/div[1]/div[6]/div[2]/div/div[2]/div[2]/div/div/div/div[1]/div/div/div[1]/button[1]/div/span[2]/span[2]').text"
   ]
  },
  {
   "cell_type": "code",
   "execution_count": 13,
   "metadata": {},
   "outputs": [],
   "source": [
    "#select only available hotels\r\n",
    "availableHotels = driver.find_element_by_id('taplc_hsx_hotel_list_lite_dusty_hotels_combined_sponsored_0')"
   ]
  },
  {
   "cell_type": "code",
   "execution_count": 15,
   "metadata": {},
   "outputs": [],
   "source": [
    "#list the hotels informations\r\n",
    "listHotels = availableHotels.find_elements_by_css_selector('div.ui_column.is-8.main_col.allowEllipsis')"
   ]
  },
  {
   "cell_type": "code",
   "execution_count": 18,
   "metadata": {},
   "outputs": [],
   "source": [
    "try:\r\n",
    "    del h\r\n",
    "    h = HotelsInfo()\r\n",
    "except:\r\n",
    "    h = HotelsInfo()"
   ]
  },
  {
   "cell_type": "code",
   "execution_count": 19,
   "metadata": {},
   "outputs": [
    {
     "name": "stdout",
     "output_type": "stream",
     "text": [
      "                       nome diaria      municipio avaliacoes      data\n",
      "0           Hotel Casa Nova    142  Várzea Grande         23  15/07/21\n",
      "1           Hotel Itamaraty     95  Várzea Grande          4  15/07/21\n",
      "2  Hotel Portal Da Amazonia    151  Várzea Grande         65  15/07/21\n",
      "3         Hotel Real Villes    103  Várzea Grande          3  15/07/21\n",
      "4     Ceolatto Palace Hotel    147  Várzea Grande         25  15/07/21\n"
     ]
    }
   ],
   "source": [
    "\r\n",
    "for hotel in listHotels:\r\n",
    "    hotelName = hotel.find_element_by_css_selector('a.property_title.prominent').text\r\n",
    "    hotelDailyRate = re.findall('\\d+', hotel.find_element_by_css_selector('div.price.__resizeWatch').text)[0]\r\n",
    "    hotelReviewCount = re.findall('\\d+', hotel.find_element_by_css_selector('a.review_count').text)[0]\r\n",
    "    hotelDailyDate =re.search('\\d+/\\d+/\\d+', date).group(0)\r\n",
    "    hotelCity = city.replace(\"Hotéis em \", \"\")\r\n",
    "    h.add(hotelName, hotelDailyRate, hotelCity, hotelReviewCount, hotelDailyDate)\r\n",
    "    #h.finish()\r\n",
    "print(h.hotels.head())\r\n",
    "    \r\n",
    "\r\n",
    "    \r\n",
    "    "
   ]
  }
 ],
 "metadata": {
  "interpreter": {
   "hash": "28fa640d9feb4cc373d510219257dbbfd60b6c4cc25bd8c4b08f6183dd2b832c"
  },
  "kernelspec": {
   "display_name": "Python 3.9.6 64-bit (windows store)",
   "name": "python3"
  },
  "language_info": {
   "codemirror_mode": {
    "name": "ipython",
    "version": 3
   },
   "file_extension": ".py",
   "mimetype": "text/x-python",
   "name": "python",
   "nbconvert_exporter": "python",
   "pygments_lexer": "ipython3",
   "version": "3.9.6"
  },
  "orig_nbformat": 4
 },
 "nbformat": 4,
 "nbformat_minor": 2
}