{
 "cells": [
  {
   "cell_type": "markdown",
   "source": [
    "# TripAdvisor scraping com Python e Selenium"
   ],
   "metadata": {}
  },
  {
   "cell_type": "markdown",
   "source": [
    "## Importando as bibliotecas necessárias"
   ],
   "metadata": {}
  },
  {
   "cell_type": "code",
   "execution_count": 1,
   "source": [
    "from selenium import webdriver\r\n",
    "from hotelsInfo import HotelsInfo\r\n",
    "import re\r\n",
    "import pandas as pd"
   ],
   "outputs": [],
   "metadata": {}
  },
  {
   "cell_type": "markdown",
   "source": [
    "## Abrindo o arquivo de links dos hotéis e o browser"
   ],
   "metadata": {}
  },
  {
   "cell_type": "code",
   "execution_count": 3,
   "source": [
    "df = pd.read_excel('Links Hoteis MT.xlsx')\r\n",
    "driver = webdriver.Firefox()"
   ],
   "outputs": [],
   "metadata": {}
  },
  {
   "cell_type": "markdown",
   "source": [
    "## Definindo as funcões de coleta de dados"
   ],
   "metadata": {}
  },
  {
   "cell_type": "code",
   "execution_count": 4,
   "source": [
    "def getAllInformations():\r\n",
    "    city,date = getCityAndDate()\r\n",
    "    listHotels = getListOfAvailableHotels()\r\n",
    "    getHotelsInfo(city, date, listHotels)"
   ],
   "outputs": [],
   "metadata": {}
  },
  {
   "cell_type": "code",
   "execution_count": 5,
   "source": [
    "def getCityAndDate():\r\n",
    "    city = driver.find_element_by_xpath('/html/body/div[1]/div/div[1]/div[6]/div[2]/div/div[2]/div[1]/div/div/h1').text\r\n",
    "    date = driver.find_element_by_xpath('/html/body/div[1]/div/div[1]/div[6]/div[2]/div/div[2]/div[2]/div/div/div/div[1]/div/div/div[1]/button[1]/div/span[2]/span[2]').text\r\n",
    "    return city, date"
   ],
   "outputs": [],
   "metadata": {}
  },
  {
   "cell_type": "code",
   "execution_count": 6,
   "source": [
    "def getListOfAvailableHotels():\r\n",
    "    availableHotels = driver.find_element_by_id('taplc_hsx_hotel_list_lite_dusty_hotels_combined_sponsored_0')\r\n",
    "    listHotels = availableHotels.find_elements_by_css_selector('div.ui_column.is-8.main_col.allowEllipsis')\r\n",
    "    return listHotels"
   ],
   "outputs": [],
   "metadata": {}
  },
  {
   "cell_type": "code",
   "execution_count": 7,
   "source": [
    "try:\r\n",
    "    del h\r\n",
    "    h = HotelsInfo()\r\n",
    "except:\r\n",
    "    h = HotelsInfo()\r\n",
    "numHotel = 0"
   ],
   "outputs": [],
   "metadata": {}
  },
  {
   "cell_type": "code",
   "execution_count": 8,
   "source": [
    "def getHotelsInfo(city, date, listHotels):\r\n",
    "    global numHotel\r\n",
    "    print(city+\" - \"+str(len(listHotels)))\r\n",
    "    numHotel += len(listHotels)\r\n",
    "    if len(listHotels) > 0:\r\n",
    "        for hotel in listHotels:\r\n",
    "            try:\r\n",
    "                hotelName = hotel.find_element_by_css_selector('a.property_title.prominent').text\r\n",
    "                hotelDailyRate = re.findall('\\d[,.]\\d+|\\d+', hotel.find_element_by_css_selector('div.price.__resizeWatch').text)\r\n",
    "                hotelDailyRate = '-' if len(hotelDailyRate) == 0 else hotelDailyRate[0]\r\n",
    "                hotelReviewCount = re.findall('\\d[,.]\\d+|\\d+', hotel.find_element_by_css_selector('a.review_count').text)\r\n",
    "                hotelReviewCount = '-' if len(hotelReviewCount) == 0 else hotelReviewCount[0]\r\n",
    "                hotelDailyDate = re.search('\\d+/\\d+/\\d+', date).group(0)\r\n",
    "                hotelCity = city.replace(\"Hotéis em \", \"\")\r\n",
    "                h.add(hotelName, hotelDailyRate, hotelCity, hotelReviewCount, hotelDailyDate)\r\n",
    "            except:\r\n",
    "                pass\r\n",
    "            #h.finish()\r\n",
    "    #print(h.hotels.head())"
   ],
   "outputs": [],
   "metadata": {}
  },
  {
   "cell_type": "markdown",
   "source": [
    "## Abrindo o site no primeiro link"
   ],
   "metadata": {}
  },
  {
   "cell_type": "code",
   "execution_count": 9,
   "source": [
    "driver.get(df.linkHoteis[0])"
   ],
   "outputs": [],
   "metadata": {}
  },
  {
   "cell_type": "markdown",
   "source": [
    "## Coletando e salvando os dados dos hotéis de todos os links\r\n",
    "\r\n",
    "### *Selecionar os parâmetros de check-in, check-out e número de hóspedes antes de prosseguir"
   ],
   "metadata": {}
  },
  {
   "cell_type": "code",
   "execution_count": 10,
   "source": [
    "for link in df.linkHoteis[:]:\r\n",
    "    driver.implicitly_wait(3)\r\n",
    "    driver.get(link)\r\n",
    "    driver.implicitly_wait(4)\r\n",
    "    getAllInformations()\r\n",
    "print(\"Total de hotéis: \"+str(numHotel))\r\n",
    "_,date = getCityAndDate()\r\n",
    "date = re.search('\\d+/\\d+/\\d+', date).group(0)\r\n",
    "date = date.replace(\"/\", '-')\r\n",
    "h.finish(date)\r\n",
    "driver.quit()"
   ],
   "outputs": [
    {
     "output_type": "stream",
     "name": "stdout",
     "text": [
      "Hotéis em Cuiabá - 31\n",
      "Hotéis em Diamantino - 0\n",
      "Total de hotéis: 31\n"
     ]
    }
   ],
   "metadata": {}
  }
 ],
 "metadata": {
  "interpreter": {
   "hash": "28fa640d9feb4cc373d510219257dbbfd60b6c4cc25bd8c4b08f6183dd2b832c"
  },
  "kernelspec": {
   "name": "python3",
   "display_name": "Python 3.9.6 64-bit (windows store)"
  },
  "language_info": {
   "codemirror_mode": {
    "name": "ipython",
    "version": 3
   },
   "file_extension": ".py",
   "mimetype": "text/x-python",
   "name": "python",
   "nbconvert_exporter": "python",
   "pygments_lexer": "ipython3",
   "version": "3.9.6"
  },
  "orig_nbformat": 4
 },
 "nbformat": 4,
 "nbformat_minor": 2
}