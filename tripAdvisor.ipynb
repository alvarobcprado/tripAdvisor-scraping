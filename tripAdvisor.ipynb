{
 "cells": [
  {
   "cell_type": "code",
   "execution_count": 1,
   "metadata": {},
   "outputs": [],
   "source": [
    "from selenium import webdriver\r\n",
    "from hotelsInfo import HotelsInfo\r\n",
    "import re\r\n",
    "import pandas as pd"
   ]
  },
  {
   "cell_type": "code",
   "execution_count": 12,
   "metadata": {},
   "outputs": [],
   "source": [
    "df = pd.read_excel('Links Hoteis MT.xlsx')\r\n",
    "driver = webdriver.Firefox()"
   ]
  },
  {
   "cell_type": "code",
   "execution_count": 3,
   "metadata": {},
   "outputs": [],
   "source": [
    "def getAllInformations():\r\n",
    "    city,date = getCityAndDate()\r\n",
    "    listHotels = getListOfAvailableHotels()\r\n",
    "    getHotelsInfo(city, date, listHotels)"
   ]
  },
  {
   "cell_type": "code",
   "execution_count": 4,
   "metadata": {},
   "outputs": [],
   "source": [
    "def getCityAndDate():\r\n",
    "    #before run this cell, select date and visitors manually\r\n",
    "    #extract city name and daily date\r\n",
    "    city = driver.find_element_by_xpath('/html/body/div[1]/div/div[1]/div[6]/div[2]/div/div[2]/div[1]/div/div/h1').text\r\n",
    "    date = driver.find_element_by_xpath('/html/body/div[1]/div/div[1]/div[6]/div[2]/div/div[2]/div[2]/div/div/div/div[1]/div/div/div[1]/button[1]/div/span[2]/span[2]').text\r\n",
    "    return city, date"
   ]
  },
  {
   "cell_type": "code",
   "execution_count": 5,
   "metadata": {},
   "outputs": [],
   "source": [
    "def getListOfAvailableHotels():\r\n",
    "    #select only available hotels\r\n",
    "    availableHotels = driver.find_element_by_id('taplc_hsx_hotel_list_lite_dusty_hotels_combined_sponsored_0')\r\n",
    "    listHotels = availableHotels.find_elements_by_css_selector('div.ui_column.is-8.main_col.allowEllipsis')\r\n",
    "    return listHotels"
   ]
  },
  {
   "cell_type": "code",
   "execution_count": 22,
   "metadata": {},
   "outputs": [],
   "source": [
    "try:\r\n",
    "    del h\r\n",
    "    h = HotelsInfo()\r\n",
    "except:\r\n",
    "    h = HotelsInfo()\r\n",
    "numHotel = 0"
   ]
  },
  {
   "cell_type": "code",
   "execution_count": 23,
   "metadata": {},
   "outputs": [],
   "source": [
    "def getHotelsInfo(city, date, listHotels):\r\n",
    "    global numHotel\r\n",
    "    print(city+\" - \"+str(len(listHotels)))\r\n",
    "    numHotel += len(listHotels)\r\n",
    "    if len(listHotels) > 0:\r\n",
    "        for hotel in listHotels:\r\n",
    "            try:\r\n",
    "                hotelName = hotel.find_element_by_css_selector('a.property_title.prominent').text\r\n",
    "                hotelDailyRate = re.findall('\\d[,.]\\d+|\\d+', hotel.find_element_by_css_selector('div.price.__resizeWatch').text)\r\n",
    "                hotelDailyRate = '-' if len(hotelDailyRate) == 0 else hotelDailyRate[0]\r\n",
    "                hotelReviewCount = re.findall('\\d[,.]\\d+|\\d+', hotel.find_element_by_css_selector('a.review_count').text)\r\n",
    "                hotelReviewCount = '-' if len(hotelReviewCount) == 0 else hotelReviewCount[0]\r\n",
    "                hotelDailyDate =re.search('\\d+/\\d+/\\d+', date).group(0)\r\n",
    "                hotelCity = city.replace(\"Hotéis em \", \"\")\r\n",
    "                h.add(hotelName, hotelDailyRate, hotelCity, hotelReviewCount, hotelDailyDate)\r\n",
    "            except:\r\n",
    "                pass\r\n",
    "            #h.finish()\r\n",
    "    #print(h.hotels.head())"
   ]
  },
  {
   "cell_type": "code",
   "execution_count": 14,
   "metadata": {},
   "outputs": [],
   "source": [
    "driver.get(df.linkHoteis[22])\r\n",
    "#Selecionar os parâmetros de Data e Hóspedes antes da próxima célula"
   ]
  },
  {
   "cell_type": "code",
   "execution_count": 24,
   "metadata": {},
   "outputs": [
    {
     "name": "stdout",
     "output_type": "stream",
     "text": [
      "Hotéis em Poconé - 11\n",
      "                        nome diaria municipio avaliacoes      data\n",
      "0             Pousada Piuval    990    Poconé        484  15/07/21\n",
      "1  Santa Rosa Pantanal Hotel  1.375    Poconé         14  15/07/21\n",
      "2          Pousada Rio Claro    443    Poconé        209  15/07/21\n",
      "3         SouthWild Pantanal    720    Poconé        132  15/07/21\n",
      "4       Pousada Rio Clarinho    333    Poconé         46  15/07/21\n"
     ]
    }
   ],
   "source": [
    "driver.implicitly_wait(3)\r\n",
    "getAllInformations()"
   ]
  },
  {
   "cell_type": "code",
   "execution_count": 10,
   "metadata": {},
   "outputs": [
    {
     "name": "stdout",
     "output_type": "stream",
     "text": [
      "Hotéis em Diamantino - 0\n",
      "Hotéis em Campo Verde - 4\n",
      "Hotéis em Querência - 0\n",
      "Hotéis em Santo Antônio do Leverger - 1\n",
      "Hotéis em Juscimeira - 0\n",
      "Hotéis em Matupá - 1\n",
      "Hotéis em Nova Xavantina - 0\n",
      "Hotéis em Jangada - 0\n",
      "Hotéis em Rio Branco - 1\n",
      "Hotéis em Porto Esperidiao - 0\n",
      "Hotéis em Marcelândia - 0\n",
      "Hotéis em Porto Jofre - 1\n",
      "Hotéis em Porto Alegre do Norte - 0\n",
      "Hotéis em Ribeirãozinho - 0\n",
      "Hotéis em Ouro Branco do Sul - 0\n",
      "Hotéis em Poxoréu - 0\n",
      "Hotéis em São José do Xingu - 1\n",
      "Hotéis em Chapada dos Guimarães - 26\n",
      "Hotéis em Rondonópolis - 21\n",
      "Hotéis em Várzea Grande - 19\n",
      "Hotéis em Sinop - 12\n",
      "Hotéis em Poconé - 11\n",
      "Hotéis em Nobres - 14\n",
      "Hotéis em Cáceres - 6\n",
      "Hotéis em Alta Floresta - 6\n",
      "Hotéis em Sorriso - 4\n",
      "Hotéis em Barra do Garças - 9\n",
      "Hotéis em Lucas do Rio Verde - 6\n",
      "Hotéis em Primavera do Leste - 7\n",
      "Hotéis em Tangará da Serra - 5\n",
      "Hotéis em Colíder - 4\n",
      "Hotéis em Barão de Melgaço - 1\n",
      "Hotéis em Campo Novo do Parecis - 1\n",
      "Hotéis em Pontes e Lacerda - 2\n",
      "Hotéis em Nova Mutum - 5\n",
      "Hotéis em Jaciara - 2\n",
      "Total de hotéis: 200\n"
     ]
    }
   ],
   "source": [
    "for link in df.linkHoteis[1:]:\r\n",
    "    driver.implicitly_wait(3)\r\n",
    "    driver.get(link)\r\n",
    "    driver.implicitly_wait(4)\r\n",
    "    getAllInformations()\r\n",
    "print(\"Total de hotéis: \"+str(numHotel))\r\n",
    "h.finish()\r\n",
    "driver.quit()"
   ]
  }
 ],
 "metadata": {
  "interpreter": {
   "hash": "28fa640d9feb4cc373d510219257dbbfd60b6c4cc25bd8c4b08f6183dd2b832c"
  },
  "kernelspec": {
   "display_name": "Python 3 (ipykernel)",
   "language": "python",
   "name": "python3"
  },
  "language_info": {
   "codemirror_mode": {
    "name": "ipython",
    "version": 3
   },
   "file_extension": ".py",
   "mimetype": "text/x-python",
   "name": "python",
   "nbconvert_exporter": "python",
   "pygments_lexer": "ipython3",
   "version": "3.9.6"
  },
  "orig_nbformat": 4
 },
 "nbformat": 4,
 "nbformat_minor": 2
}